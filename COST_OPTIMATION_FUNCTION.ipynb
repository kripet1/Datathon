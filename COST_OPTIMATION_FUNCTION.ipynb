{
 "cells": [
  {
   "cell_type": "code",
   "execution_count": 8,
   "metadata": {},
   "outputs": [],
   "source": [
    "def how_many_paninis_to_take(Estimation, uncertainty, production_price, consumer_price): \n",
    "    worst_case_least_paninis_sold = round(Estimation + uncertainty)\n",
    "    best_case_least_paninis_sold = round(Estimation - uncertainty)\n",
    "\n",
    "    cases_range = range(worst_case_least_paninis_sold, best_case_least_paninis_sold + 1) # Include upper bound\n",
    "\n",
    "    possible_profits = list()\n",
    "    for i in cases_range: \n",
    "        profit = i * consumer_price - Estimation * production_price\n",
    "        possible_profits.append(profit)\n",
    "\n",
    "    # Find the maximum profit and its index\n",
    "    max_profit = max(possible_profits)\n",
    "    max_profit_index = possible_profits.index(max_profit)\n",
    "\n",
    "    # Determine the corresponding number of paninis to take\n",
    "    optimal_paninis = cases_range[max_profit_index]\n",
    "\n",
    "    return optimal_paninis\n"
   ]
  },
  {
   "cell_type": "code",
   "execution_count": 9,
   "metadata": {},
   "outputs": [
    {
     "data": {
      "text/plain": [
       "10"
      ]
     },
     "execution_count": 9,
     "metadata": {},
     "output_type": "execute_result"
    }
   ],
   "source": [
    "#ASSUMING: \n",
    "\n",
    "production_price = 1 # This is the price Ryanair looses if they take a panini pn board that will not be sold, i.e. the price they papy + Cost of disposing (they probably have to pay for trash as well)\n",
    "consumer_price = 3 # marginal revenue ie what the Panini is sold for to the end consumer \n",
    "Estimation = 10 # this is the number of paninis that our model predicts\n",
    "uncertainty = 0.1 # The uncertainty of our model, ie if we have 90% accuracy, this will be 10%. So this will also come from our model\n",
    "\n",
    "how_many_paninis_to_take(Estimation, uncertainty,  production_price, consumer_price)"
   ]
  },
  {
   "cell_type": "markdown",
   "metadata": {},
   "source": []
  }
 ],
 "metadata": {
  "kernelspec": {
   "display_name": "base",
   "language": "python",
   "name": "python3"
  },
  "language_info": {
   "codemirror_mode": {
    "name": "ipython",
    "version": 3
   },
   "file_extension": ".py",
   "mimetype": "text/x-python",
   "name": "python",
   "nbconvert_exporter": "python",
   "pygments_lexer": "ipython3",
   "version": "3.11.5"
  }
 },
 "nbformat": 4,
 "nbformat_minor": 2
}

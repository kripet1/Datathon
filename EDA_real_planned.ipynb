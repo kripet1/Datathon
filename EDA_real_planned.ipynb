{
  "nbformat": 4,
  "nbformat_minor": 0,
  "metadata": {
    "colab": {
      "provenance": []
    },
    "kernelspec": {
      "name": "python3",
      "display_name": "Python 3"
    },
    "language_info": {
      "name": "python"
    }
  },
  "cells": [
    {
      "cell_type": "code",
      "source": [
        "import sqlite3\n",
        "\n",
        "# Connect to SQLite database (this will create the database if it doesn't exist)\n",
        "conn = sqlite3.connect('flights.db')\n",
        "\n",
        "# Create a cursor object using the cursor() method\n",
        "cursor = conn.cursor()\n",
        "\n",
        "# Create table for real flights\n",
        "cursor.execute('''\n",
        "CREATE TABLE IF NOT EXISTS real_flights (\n",
        "    Base TEXT,\n",
        "    Lof_ID TEXT,\n",
        "    DAY_OF_ORIGIN TEXT,\n",
        "    Flights TEXT,\n",
        "    Hops TEXT\n",
        ")\n",
        "''')\n",
        "\n",
        "# Create table for planned flights\n",
        "cursor.execute('''\n",
        "CREATE TABLE IF NOT EXISTS planned_flights (\n",
        "    dateoforigin TEXT,\n",
        "    airportbase TEXT,\n",
        "    flights TEXT,\n",
        "    hops TEXT\n",
        ")\n",
        "''')\n",
        "\n",
        "# Commit the transaction\n",
        "conn.commit()\n",
        "\n",
        "# Close the connection\n",
        "conn.close()\n"
      ],
      "metadata": {
        "id": "BqT8DTY9Hhgh"
      },
      "execution_count": 1,
      "outputs": []
    },
    {
      "cell_type": "code",
      "source": [
        "import pandas as pd\n",
        "\n",
        "# Assuming you have the Excel file path\n",
        "excel_path = 'real vs planned lofs_1_year.xlsx'\n",
        "\n",
        "# Load the Excel file without specifying a sheet name\n",
        "xls = pd.ExcelFile(excel_path)\n",
        "\n",
        "# Print all sheet names\n",
        "print(xls.sheet_names)\n"
      ],
      "metadata": {
        "colab": {
          "base_uri": "https://localhost:8080/",
          "height": 0
        },
        "id": "nvCZOu2-w-4V",
        "outputId": "5c30745e-b9ff-46eb-acb6-74dc4dfa0d61"
      },
      "execution_count": 5,
      "outputs": [
        {
          "output_type": "stream",
          "name": "stdout",
          "text": [
            "['real netline lof', 'planned rim lof ']\n"
          ]
        }
      ]
    },
    {
      "cell_type": "code",
      "source": [
        "# @title\n",
        "import pandas as pd\n",
        "\n",
        "# Replace with your actual file path\n",
        "file_path = 'real vs planned lofs_1_year.xlsx'\n",
        "\n",
        "# Load sheets\n",
        "real_lofs_df = pd.read_excel(file_path, sheet_name='real netline lof')\n",
        "planned_lofs_df = pd.read_excel(file_path, sheet_name='planned rim lof ')\n",
        "\n",
        "# Display the first few rows of each DataFrame\n",
        "print(\"Real LOFs DataFrame:\")\n",
        "print(real_lofs_df.head())\n",
        "print(\"\\nPlanned LOFs DataFrame:\")\n",
        "print(planned_lofs_df.head())\n"
      ],
      "metadata": {
        "colab": {
          "base_uri": "https://localhost:8080/",
          "height": 0
        },
        "id": "DXrJkaFMHy3A",
        "outputId": "936cdd56-03fa-478e-ef09-116c34876822"
      },
      "execution_count": 7,
      "outputs": [
        {
          "output_type": "stream",
          "name": "stdout",
          "text": [
            "Real LOFs DataFrame:\n",
            "  Base               Lof_ID DAY_OF_ORIGIN                            Flights  \\\n",
            "0  AAR   2023.11.08_95AL73Q    2023-11-08                             FR9401   \n",
            "1  ACE  2023.03.28_324FR738    2023-03-28  FR2305 / FR2306 / FR2001 / FR2002   \n",
            "2  ACE  2023.03.28_349FR738    2023-03-28  FR5911 / FR5910 / FR3488 / FR3489   \n",
            "3  ACE  2023.03.29_324FR738    2023-03-29  FR2001 / FR2002 / FR4359 / FR4358   \n",
            "4  ACE  2023.03.29_349FR738    2023-03-29    FR251 / FR250 / FR2018 / FR2017   \n",
            "\n",
            "                                Hops  \n",
            "0                             AARFAO  \n",
            "1  ACENOC / NOCACE / ACESCQ / SCQACE  \n",
            "2  ACEDUB / DUBACE / ACEVLC / VLCACE  \n",
            "3  ACESCQ / SCQACE / ACEBVA / BVAACE  \n",
            "4  ACESTN / STNACE / ACEMAD / MADACE  \n",
            "\n",
            "Planned LOFs DataFrame:\n",
            "  dateoforigin airportbase                                            flights  \\\n",
            "0   2023-04-29         ACE                  FR8285 / FR8284 / FR3488 / FR3489   \n",
            "1   2023-04-29         AGA                  FR9499 / FR9500 / FR1245 / FR1244   \n",
            "2   2023-04-29         AGA  FR961 / FR960 / FR1458 / FR1459 / FR6494 / FR6493   \n",
            "3   2023-04-29         AGP  FR3148 / FR3149 / FR1915 / FR1916 / FR7055 / F...   \n",
            "4   2023-04-29         AGP  FR9469 / FR9470 / FR4950 / FR4951 / FR4057 / F...   \n",
            "\n",
            "                                      hops  \n",
            "0              ACE / STN / ACE / VLC / ACE  \n",
            "1              AGA / SXB / AGA / BVA / AGA  \n",
            "2  AGA / TFS / AGA / VLC / AGA / MRS / AGA  \n",
            "3  AGP / NDR / AGP / CRL / AGP / DUB / AGP  \n",
            "4  AGP / IBZ / AGP / CWL / AGP / HAM / AGP  \n"
          ]
        }
      ]
    },
    {
      "cell_type": "code",
      "source": [
        "# Display the first few rows of each DataFrame\n",
        "print(\"Real LOFs DataFrame:\")\n",
        "print(real_lofs_df.head())\n",
        "print(real_lofs_df.columns)\n",
        "print(\"\\nPlanned LOFs DataFrame:\")\n",
        "print(planned_lofs_df.head())\n",
        "print(planned_lofs_df.columns)"
      ],
      "metadata": {
        "colab": {
          "base_uri": "https://localhost:8080/",
          "height": 0
        },
        "id": "laIksNWwUD31",
        "outputId": "a9ad5b77-bfa3-4b99-a403-701e7a1dd892"
      },
      "execution_count": 34,
      "outputs": [
        {
          "output_type": "stream",
          "name": "stdout",
          "text": [
            "Real LOFs DataFrame:\n",
            "  Base               Lof_ID DAY_OF_ORIGIN                            Flights  \\\n",
            "0  AAR   2023.11.08_95AL73Q    2023-11-08                             FR9401   \n",
            "1  ACE  2023.03.28_324FR738    2023-03-28  FR2305 / FR2306 / FR2001 / FR2002   \n",
            "2  ACE  2023.03.28_349FR738    2023-03-28  FR5911 / FR5910 / FR3488 / FR3489   \n",
            "3  ACE  2023.03.29_324FR738    2023-03-29  FR2001 / FR2002 / FR4359 / FR4358   \n",
            "4  ACE  2023.03.29_349FR738    2023-03-29    FR251 / FR250 / FR2018 / FR2017   \n",
            "\n",
            "                                Hops  \n",
            "0                             AARFAO  \n",
            "1  ACENOC / NOCACE / ACESCQ / SCQACE  \n",
            "2  ACEDUB / DUBACE / ACEVLC / VLCACE  \n",
            "3  ACESCQ / SCQACE / ACEBVA / BVAACE  \n",
            "4  ACESTN / STNACE / ACEMAD / MADACE  \n",
            "Index(['Base', 'Lof_ID', 'DAY_OF_ORIGIN', 'Flights', 'Hops'], dtype='object')\n",
            "\n",
            "Planned LOFs DataFrame:\n",
            "  dateoforigin airportbase                                            flights  \\\n",
            "0   2023-04-29         ACE                  FR8285 / FR8284 / FR3488 / FR3489   \n",
            "1   2023-04-29         AGA                  FR9499 / FR9500 / FR1245 / FR1244   \n",
            "2   2023-04-29         AGA  FR961 / FR960 / FR1458 / FR1459 / FR6494 / FR6493   \n",
            "3   2023-04-29         AGP  FR3148 / FR3149 / FR1915 / FR1916 / FR7055 / F...   \n",
            "4   2023-04-29         AGP  FR9469 / FR9470 / FR4950 / FR4951 / FR4057 / F...   \n",
            "\n",
            "                                      hops  \n",
            "0              ACE / STN / ACE / VLC / ACE  \n",
            "1              AGA / SXB / AGA / BVA / AGA  \n",
            "2  AGA / TFS / AGA / VLC / AGA / MRS / AGA  \n",
            "3  AGP / NDR / AGP / CRL / AGP / DUB / AGP  \n",
            "4  AGP / IBZ / AGP / CWL / AGP / HAM / AGP  \n",
            "Index(['dateoforigin', 'airportbase', 'flights', 'hops'], dtype='object')\n"
          ]
        }
      ]
    },
    {
      "cell_type": "code",
      "source": [
        "# @title\n",
        "import pandas as pd\n",
        "\n",
        "# Assuming real_lofs_df and planned_lofs_df are already loaded and have the necessary columns\n",
        "\n",
        "# Ensure date formats are consistent and aligned\n",
        "real_lofs_df['DAY_OF_ORIGIN'] = pd.to_datetime(real_lofs_df['DAY_OF_ORIGIN']).dt.strftime('%Y-%m-%d')\n",
        "planned_lofs_df['dateoforigin'] = pd.to_datetime(planned_lofs_df['dateoforigin']).dt.strftime('%Y-%m-%d')\n",
        "\n",
        "# Normalize the Real LOFs DataFrame\n",
        "real_flights_expanded = real_lofs_df.set_index(['Lof_ID', 'DAY_OF_ORIGIN', 'Base'])['Flights'].str.split(' / ', expand=True).stack().reset_index(name='Flight').drop('level_3', axis=1)\n",
        "real_flights_expanded.rename(columns={'DAY_OF_ORIGIN': 'dateoforigin'}, inplace=True) # Aligning the date column names\n",
        "\n",
        "# Normalize the Planned LOFs DataFrame\n",
        "planned_flights_expanded = planned_lofs_df.set_index(['dateoforigin', 'airportbase'])['flights'].str.split(' / ', expand=True).stack().reset_index(name='Flight').drop('level_2', axis=1)\n",
        "\n",
        "# Identify cancellations by finding flights in planned_flights_expanded not in real_flights_expanded\n",
        "cancellations = pd.merge(planned_flights_expanded, real_flights_expanded, on=['Flight', 'dateoforigin'], how='left', indicator=True).query('_merge == \"left_only\"')\n",
        "\n",
        "# Clean up the cancellations DataFrame to include necessary information\n",
        "cancellations_cleaned = cancellations[['dateoforigin', 'airportbase', 'Flight']].drop_duplicates()\n",
        "\n",
        "# Export to Excel\n",
        "cancellations_cleaned.to_excel('cancelled_flights2.xlsx', index=False)\n",
        "\n",
        "print(\"Cancelled flights have been identified and exported to 'cancelled_flights.xlsx'.\")\n"
      ],
      "metadata": {
        "colab": {
          "base_uri": "https://localhost:8080/",
          "height": 0
        },
        "id": "2BUFRGl_KSxU",
        "outputId": "b38c2398-2c0c-43d6-e7ae-0f4e29e58cbd"
      },
      "execution_count": 8,
      "outputs": [
        {
          "output_type": "stream",
          "name": "stdout",
          "text": [
            "Cancelled flights have been identified and exported to 'cancelled_flights.xlsx'.\n"
          ]
        }
      ]
    },
    {
      "cell_type": "code",
      "source": [
        "import pandas as pd\n",
        "\n",
        "# Assuming the cancelled flights data is in 'cancelled_flights.xlsx'\n",
        "# Load the data\n",
        "cancelled_flights_df = pd.read_excel('cancelled_flights2.xlsx')\n",
        "\n",
        "# Display the first few rows to verify the content\n",
        "print(cancelled_flights_df.head())\n",
        "\n",
        "# Descriptive statistics for the cancellation dates\n",
        "date_stats = cancelled_flights_df['dateoforigin'].describe()\n",
        "\n",
        "# Count of cancellations by airport base\n",
        "airportbase_cancellations = cancelled_flights_df['airportbase'].value_counts()\n",
        "\n",
        "# Count of cancellations by date\n",
        "date_cancellations = cancelled_flights_df['dateoforigin'].value_counts()\n",
        "\n",
        "# Display the results\n",
        "print(date_stats)\n",
        "print(airportbase_cancellations)\n",
        "print(date_cancellations)\n"
      ],
      "metadata": {
        "colab": {
          "base_uri": "https://localhost:8080/",
          "height": 0
        },
        "id": "PWUZ1MXBP-F2",
        "outputId": "68312de8-dd16-4794-dfdc-7dfdec0a26bf"
      },
      "execution_count": 9,
      "outputs": [
        {
          "output_type": "stream",
          "name": "stdout",
          "text": [
            "  dateoforigin airportbase  Flight\n",
            "0   2023-04-29         EDI   RK597\n",
            "1   2023-04-29         EDI   RK596\n",
            "2   2023-04-29         EDI  RK1133\n",
            "3   2023-04-29         EDI  RK1132\n",
            "4   2023-04-29         EDI  RK6654\n",
            "count         126360\n",
            "unique           421\n",
            "top       2022-11-04\n",
            "freq            2099\n",
            "Name: dateoforigin, dtype: object\n",
            "STN    17410\n",
            "MAN     9817\n",
            "KTW     5748\n",
            "BGY     5537\n",
            "EDI     5019\n",
            "       ...  \n",
            "CHQ       14\n",
            "ACE        9\n",
            "MAH        2\n",
            "TFS        2\n",
            "DUS        1\n",
            "Name: airportbase, Length: 97, dtype: int64\n",
            "2022-11-04    2099\n",
            "2022-11-11    2081\n",
            "2022-11-18    2059\n",
            "2022-11-06    2034\n",
            "2022-11-14    2016\n",
            "              ... \n",
            "2023-03-02      32\n",
            "2023-02-23      32\n",
            "2023-02-09      31\n",
            "2023-02-02      30\n",
            "2022-12-24      27\n",
            "Name: dateoforigin, Length: 421, dtype: int64\n"
          ]
        }
      ]
    },
    {
      "cell_type": "code",
      "source": [
        "# Display the first few rows of each DataFrame\n",
        "print(\"Cancelled flights DataFrame:\")\n",
        "print(cancelled_flights_df.head())\n",
        "print(cancelled_flights_df.columns)\n"
      ],
      "metadata": {
        "colab": {
          "base_uri": "https://localhost:8080/",
          "height": 0
        },
        "id": "lZA2LjcgUSZg",
        "outputId": "ef4235ff-05e2-49ba-ddfc-489baaf3161a"
      },
      "execution_count": 35,
      "outputs": [
        {
          "output_type": "stream",
          "name": "stdout",
          "text": [
            "Cancelled flights DataFrame:\n",
            "  dateoforigin airportbase  Flight\n",
            "0   2023-04-29         EDI   RK597\n",
            "1   2023-04-29         EDI   RK596\n",
            "2   2023-04-29         EDI  RK1133\n",
            "3   2023-04-29         EDI  RK1132\n",
            "4   2023-04-29         EDI  RK6654\n",
            "Index(['dateoforigin', 'airportbase', 'Flight'], dtype='object')\n"
          ]
        }
      ]
    },
    {
      "cell_type": "markdown",
      "source": [
        "Dates of Cancellation: The 'dateoforigin' field, which seems to represent the dates of flight cancellations, spans 421 unique dates. The day with the highest number of cancellations is 2022-11-04, with 2099 cancellations.\n",
        "\n",
        "Airport Base Cancellations: The 'airportbase' field indicates the base airport of the flights. The airport with the highest number of cancellations is STN (presumably Stansted Airport), with a total of 17410 cancellations. There are 97 unique airports listed.\n",
        "\n",
        "Flight Identifiers: The 'Flight' column contains flight identifiers, which could be useful for finding patterns if the same flight numbers are frequently cancelled."
      ],
      "metadata": {
        "id": "L_uCJblFQ2y_"
      }
    },
    {
      "cell_type": "markdown",
      "source": [
        "## **Temporal Patterns: Number of cancellations per month.**\n",
        "\n"
      ],
      "metadata": {
        "id": "3MRvvAkERDSc"
      }
    },
    {
      "cell_type": "code",
      "source": [
        "import pandas as pd\n",
        "\n",
        "# Convert 'dateoforigin' to datetime\n",
        "cancelled_flights_df['dateoforigin'] = pd.to_datetime(cancelled_flights_df['dateoforigin'])\n",
        "\n",
        "# Extract year and month from 'dateoforigin'\n",
        "cancelled_flights_df['year_month'] = cancelled_flights_df['dateoforigin'].dt.to_period('M')\n",
        "\n",
        "# Count of cancellations by month\n",
        "monthly_cancellations = cancelled_flights_df['year_month'].value_counts().sort_index()\n",
        "\n",
        "# Display the results\n",
        "print(monthly_cancellations)\n"
      ],
      "metadata": {
        "colab": {
          "base_uri": "https://localhost:8080/",
          "height": 0
        },
        "id": "RUnjuXzuQ3gR",
        "outputId": "2a840921-534e-413f-923e-03250ebe58f3"
      },
      "execution_count": 10,
      "outputs": [
        {
          "output_type": "stream",
          "name": "stdout",
          "text": [
            "2022-10    39984\n",
            "2022-11    46113\n",
            "2022-12     2197\n",
            "2023-01     1917\n",
            "2023-02     1305\n",
            "2023-03     2378\n",
            "2023-04     3390\n",
            "2023-05     4019\n",
            "2023-06     4944\n",
            "2023-07     4909\n",
            "2023-08     4667\n",
            "2023-09     4196\n",
            "2023-10     3479\n",
            "2023-11     2862\n",
            "Freq: M, Name: year_month, dtype: int64\n"
          ]
        }
      ]
    },
    {
      "cell_type": "markdown",
      "source": [
        "## **Specific days of the week with higher cancellations.**"
      ],
      "metadata": {
        "id": "PVMcB-z4RGLV"
      }
    },
    {
      "cell_type": "code",
      "source": [
        "# Extract day of the week from 'dateoforigin'\n",
        "cancelled_flights_df['day_of_week'] = cancelled_flights_df['dateoforigin'].dt.day_name()\n",
        "\n",
        "# Count of cancellations by day of the week\n",
        "weekday_cancellations = cancelled_flights_df['day_of_week'].value_counts()\n",
        "\n",
        "# Display the results\n",
        "print(weekday_cancellations)\n"
      ],
      "metadata": {
        "colab": {
          "base_uri": "https://localhost:8080/",
          "height": 0
        },
        "id": "33-KYc_ERJm-",
        "outputId": "999823e4-0251-451a-b76c-ef6de0b2c6e1"
      },
      "execution_count": 11,
      "outputs": [
        {
          "output_type": "stream",
          "name": "stdout",
          "text": [
            "Monday       20236\n",
            "Sunday       19309\n",
            "Friday       19300\n",
            "Saturday     18761\n",
            "Tuesday      16650\n",
            "Wednesday    16499\n",
            "Thursday     15605\n",
            "Name: day_of_week, dtype: int64\n"
          ]
        }
      ]
    },
    {
      "cell_type": "code",
      "source": [
        "import pandas as pd\n",
        "\n",
        "# Assuming cancelled_flights_df is your DataFrame with the cancellation data\n",
        "# Convert 'dateoforigin' to datetime format if not already done\n",
        "cancelled_flights_df['dateoforigin'] = pd.to_datetime(cancelled_flights_df['dateoforigin'])\n",
        "\n",
        "# Identify the top N dates with the highest number of cancellations\n",
        "N = 5  # You can adjust N based on how many top dates you want to examine\n",
        "top_dates = cancelled_flights_df['dateoforigin'].value_counts().head(N).index\n",
        "\n",
        "# For each of these top N dates, filter the dataset for detailed analysis\n",
        "for date in top_dates:\n",
        "    print(f\"Details for {date.date()}:\")\n",
        "    filtered_df = cancelled_flights_df[cancelled_flights_df['dateoforigin'] == date]\n",
        "    # Display the airport base and flights for this date\n",
        "    print(filtered_df[['airportbase', 'Flight']])\n",
        "    print(\"\\n\")\n",
        "\n",
        "# Optionally, you can also export each filtered dataset to an Excel file for external analysis\n",
        "    # filtered_df.to_excel(f'cancelled_flights_{date.date()}.xlsx', index=False)\n"
      ],
      "metadata": {
        "colab": {
          "base_uri": "https://localhost:8080/",
          "height": 0
        },
        "id": "9yoeEtzdzOj5",
        "outputId": "1c465160-6a0c-4a43-8ab4-f932c51984c3"
      },
      "execution_count": 15,
      "outputs": [
        {
          "output_type": "stream",
          "name": "stdout",
          "text": [
            "Details for 2022-11-04:\n",
            "      airportbase  Flight\n",
            "48019         AGA  FR9279\n",
            "48020         AGA   FR184\n",
            "48021         AGA   FR185\n",
            "48022         AGA  FR9298\n",
            "48023         AGA  FR3429\n",
            "...           ...     ...\n",
            "61879         ZAG  FR2750\n",
            "61880         ZAG  FR2189\n",
            "61881         ZAG  FR2190\n",
            "61882         ZAG  FR5866\n",
            "61883         ZAG  FR5867\n",
            "\n",
            "[2099 rows x 2 columns]\n",
            "\n",
            "\n",
            "Details for 2022-11-11:\n",
            "      airportbase  Flight\n",
            "71189         AGP  FR8146\n",
            "71190         AGP  FR8147\n",
            "71191         AGP  FR2598\n",
            "71192         AGP  FR7048\n",
            "71193         ALC  FR2954\n",
            "...           ...     ...\n",
            "83957         ZAG  FR2126\n",
            "83958         ZAG  FR2127\n",
            "83959         ZAG  FR2130\n",
            "83960         ZAG  FR5870\n",
            "83961         ZAG  FR5871\n",
            "\n",
            "[2081 rows x 2 columns]\n",
            "\n",
            "\n",
            "Details for 2022-11-18:\n",
            "       airportbase  Flight\n",
            "115946         ALC  FR2954\n",
            "115947         ALC  FR2953\n",
            "115948         ALC  FR3346\n",
            "115949         ALC  FR3347\n",
            "115950         ALC  FR8538\n",
            "...            ...     ...\n",
            "126355         ZAG  FR2172\n",
            "126356         ZAG  FR2123\n",
            "126357         ZAG  FR2124\n",
            "126358         ZAG  FR2183\n",
            "126359         ZAG  FR2184\n",
            "\n",
            "[2059 rows x 2 columns]\n",
            "\n",
            "\n",
            "Details for 2022-11-06:\n",
            "      airportbase  Flight\n",
            "49055         AGP  FR3348\n",
            "49056         AGP  FR8146\n",
            "49057         AGP  FR8147\n",
            "49058         AGP   FR540\n",
            "49059         AGP   FR541\n",
            "...           ...     ...\n",
            "62948         VLC  FR1713\n",
            "62949         WMI  FR1934\n",
            "62950         WMI  FR1937\n",
            "62951         WMI  FR1944\n",
            "62952         WMI  FR1945\n",
            "\n",
            "[2034 rows x 2 columns]\n",
            "\n",
            "\n",
            "Details for 2022-11-14:\n",
            "       airportbase  Flight\n",
            "114439         AGP  FR2524\n",
            "114440         AGP  FR2573\n",
            "114441         AGP  FR2574\n",
            "114442         AGP  FR3081\n",
            "114443         AGP  FR3080\n",
            "...            ...     ...\n",
            "124758         WRO  FR8212\n",
            "124759         WRO  FR2110\n",
            "124760         WRO  FR2111\n",
            "124761         WRO  FR2076\n",
            "124762         WRO  FR2079\n",
            "\n",
            "[2016 rows x 2 columns]\n",
            "\n",
            "\n"
          ]
        }
      ]
    },
    {
      "cell_type": "code",
      "source": [
        "import pandas as pd\n",
        "\n",
        "# Assuming 'cancelled_flights_df' is your DataFrame containing cancellation data\n",
        "cancelled_flights_df['dateoforigin'] = pd.to_datetime(cancelled_flights_df['dateoforigin']).dt.date\n",
        "\n",
        "# Group cancellations by date, list unique flights and bases for each date\n",
        "cancelled_flights_grouped = cancelled_flights_df.groupby('dateoforigin').agg({\n",
        "    'Flight': lambda x: list(set(x)),\n",
        "    'airportbase': lambda x: list(set(x))\n",
        "})\n",
        "\n",
        "# Calculate the number of cancellations for each day\n",
        "cancelled_flights_grouped['cancellations_count'] = cancelled_flights_df.groupby('dateoforigin')['Flight'].count()\n",
        "\n",
        "# Filter for days with high cancellations, based on a threshold (mean + std deviation for example)\n",
        "mean_cancellations = cancelled_flights_grouped['cancellations_count'].mean()\n",
        "std_cancellations = cancelled_flights_grouped['cancellations_count'].std()\n",
        "high_cancellation_days = cancelled_flights_grouped[cancelled_flights_grouped['cancellations_count'] > mean_cancellations + std_cancellations]\n",
        "\n",
        "# Display results\n",
        "print(high_cancellation_days[['Flight', 'airportbase', 'cancellations_count']])\n"
      ],
      "metadata": {
        "colab": {
          "base_uri": "https://localhost:8080/",
          "height": 0
        },
        "id": "2KR5S8Fj0AeW",
        "outputId": "9c3ecedd-aa9a-4cfb-ffad-5f04a6955882"
      },
      "execution_count": 16,
      "outputs": [
        {
          "output_type": "stream",
          "name": "stdout",
          "text": [
            "                                                         Flight  \\\n",
            "dateoforigin                                                      \n",
            "2022-10-01    [FR5524, FR4177, FR627, FR6882, FR2701, FR558,...   \n",
            "2022-10-02    [FR3553, FR8968, FR7728, FR1451, FR1501, FR663...   \n",
            "2022-10-03    [FR8660, FR9390, FR5317, FR8968, FR6882, FR761...   \n",
            "2022-10-04    [FR4177, FR1838, FR8968, FR627, FR6882, FR3190...   \n",
            "2022-10-05    [FR5317, FR3438, RK1103, FR9065, FR1501, FR267...   \n",
            "2022-10-06    [FR4177, FR8968, FR8609, FR8368, FR6882, FR722...   \n",
            "2022-10-07    [FR8660, FR8968, FR3438, FR6882, FR1949, FR271...   \n",
            "2022-10-08    [FR4177, FR627, FR3190, FR2701, FR558, FR7222,...   \n",
            "2022-10-09    [FR3141, FR3553, FR1838, FR8968, FR1280, FR979...   \n",
            "2022-10-10    [FR3141, FR9390, FR8660, FR5317, FR8968, FR740...   \n",
            "2022-10-11    [FR7222, FR2910, FR1501, FR5120, FR1633, FR688...   \n",
            "2022-10-12    [FR5317, FR3438, FR7618, RK1103, FR385, FR2910...   \n",
            "2022-10-13    [FR7222, FR2910, FR1501, FR6886, FR5177, FR262...   \n",
            "2022-10-14    [FR3011, FR9390, FR1838, FR8968, FR5317, FR688...   \n",
            "2022-10-15    [FR5524, FR4177, FR627, FR3190, FR271, FR2701,...   \n",
            "2022-10-16    [FR3553, FR1838, FR9911, FR8968, FR8609, FR688...   \n",
            "2022-10-17    [FR8660, FR5317, FR7222, FR2910, FR1501, FR744...   \n",
            "2022-10-18    [FR627, FR385, FR7222, FR2910, FR3980, FR1501,...   \n",
            "2022-10-19    [FR5317, FR9911, FR3438, RK1103, FR9065, FR722...   \n",
            "2022-10-20    [FR7222, FR2910, FR1501, FR6886, FR5177, FR262...   \n",
            "2022-10-21    [FR8660, FR3438, FR7618, FR9065, FR7222, FR291...   \n",
            "2022-10-22    [FR4177, FR627, FR6882, FR271, FR2701, FR558, ...   \n",
            "2022-10-23    [FR7728, FR385, FR7222, FR2910, FR1501, FR5201...   \n",
            "2022-10-24    [FR8660, FR5317, FR7618, FR7728, FR9065, FR291...   \n",
            "2022-10-25    [FR627, FR385, FR3980, FR2910, FR5120, FR1633,...   \n",
            "2022-10-26    [FR5317, FR3438, FR7618, FR7728, RK1103, FR385...   \n",
            "2022-10-27    [FR7222, FR2910, FR1501, FR6886, FR5177, FR262...   \n",
            "2022-10-28    [FR8660, FR3438, FR385, FR7222, FR2910, FR2717...   \n",
            "2022-10-29    [FR8968, FR627, FR3190, FR2701, FR385, FR6865,...   \n",
            "2022-10-30    [FR6918, FR2475, FR2679, FR4268, FR9717, FR722...   \n",
            "2022-10-31    [FR6918, FR1567, FR6741, FR7586, FR7222, FR517...   \n",
            "2022-11-01    [FR3011, FR4177, FR1838, FR256, FR5317, FR3921...   \n",
            "2022-11-02    [FR6918, FR5317, FR7222, FR329, FR2550, FR2980...   \n",
            "2022-11-03    [FR1567, FR5317, FR2679, FR910, FR7222, FR3799...   \n",
            "2022-11-04    [FR2475, FR5317, FR7586, FR7222, FR9717, FR302...   \n",
            "2022-11-05    [FR6918, FR1567, FR4268, FR3980, FR9877, FR329...   \n",
            "2022-11-06    [FR2475, FR2679, FR4268, FR9717, FR7222, FR398...   \n",
            "2022-11-07    [FR6918, FR1567, FR910, FR6741, FR7586, FR7222...   \n",
            "2022-11-08    [FR5317, FR5333, FR910, FR7222, FR2511, FR2550...   \n",
            "2022-11-09    [FR6918, FR5317, FR5333, FR7222, FR5177, FR329...   \n",
            "2022-11-10    [FR5317, FR5333, FR2679, FR910, FR7222, FR3799...   \n",
            "2022-11-11    [FR2475, FR5317, FR5333, FR6741, FR9717, FR722...   \n",
            "2022-11-12    [FR6918, FR1567, FR4268, FR7222, FR3980, FR987...   \n",
            "2022-11-13    [FR6918, FR2475, FR4268, FR9717, FR7222, FR398...   \n",
            "2022-11-14    [FR6918, FR5333, FR910, FR7586, FR7222, FR5177...   \n",
            "2022-11-15    [FR5317, FR7222, FR2511, FR2550, FR687, FR2609...   \n",
            "2022-11-16    [FR6918, FR5317, FR7222, FR5177, FR329, FR2511...   \n",
            "2022-11-17    [FR1567, FR5317, FR5333, FR2679, FR910, FR7222...   \n",
            "2022-11-18    [FR2475, FR5317, FR5333, FR6741, FR7586, FR722...   \n",
            "2022-11-19    [FR6918, FR1567, FR4268, FR7222, FR9643, FR987...   \n",
            "2022-11-20    [FR2475, FR5333, FR4268, FR9717, FR7222, FR398...   \n",
            "2022-11-21    [FR6918, FR1567, FR6741, FR7586, FR7222, FR517...   \n",
            "2022-11-22    [FR5317, FR5333, FR910, FR7222, FR2511, FR2550...   \n",
            "2022-11-23    [FR3011, FR5317, FR256, FR6480, FR3921, FR9799...   \n",
            "2022-11-24    [FR7696, FR3011, FR1567, FR5317, FR2679, FR533...   \n",
            "2022-11-25    [FR5317, FR5333, FR6741, FR9717, FR7586, FR398...   \n",
            "2022-11-26    [FR6918, FR1567, FR3980, FR9643, FR9877, FR517...   \n",
            "2022-11-27    [FR6918, FR2475, FR2679, FR4268, FR9717, FR722...   \n",
            "2022-11-28    [FR6918, FR910, FR7586, FR7222, FR5177, FR8000...   \n",
            "\n",
            "                                                    airportbase  \\\n",
            "dateoforigin                                                      \n",
            "2022-10-01    [SKG, LTN, DUB, WRO, BUD, ATH, VLC, AGA, LPL, ...   \n",
            "2022-10-02    [SKG, LTN, DUB, WRO, BUD, ATH, AGA, VLC, LPL, ...   \n",
            "2022-10-03    [SKG, LTN, DUB, WRO, BUD, ATH, VLC, AGA, LPL, ...   \n",
            "2022-10-04    [SKG, LTN, DUB, WRO, BUD, ATH, AGA, VLC, LPL, ...   \n",
            "2022-10-05    [SKG, LTN, DUB, WRO, BUD, ATH, AGA, VLC, LPL, ...   \n",
            "2022-10-06    [SKG, LTN, DUB, WRO, BUD, ATH, AGA, VLC, LPL, ...   \n",
            "2022-10-07    [SKG, LTN, DUB, WRO, BUD, ATH, AGA, VLC, LPL, ...   \n",
            "2022-10-08    [SKG, LTN, DUB, WRO, BUD, ATH, AGA, VLC, LPL, ...   \n",
            "2022-10-09    [SKG, LTN, DUB, WRO, BUD, ATH, VLC, AGA, LPL, ...   \n",
            "2022-10-10    [SKG, LTN, DUB, WRO, BUD, ATH, AGA, VLC, LPL, ...   \n",
            "2022-10-11    [SKG, LTN, DUB, WRO, BUD, ATH, VLC, AGA, LPL, ...   \n",
            "2022-10-12    [SKG, LTN, DUB, WRO, BUD, ATH, VLC, AGA, LPL, ...   \n",
            "2022-10-13    [SKG, LTN, DUB, WRO, BUD, ATH, VLC, AGA, LPL, ...   \n",
            "2022-10-14    [SKG, LTN, DUB, WRO, BUD, ATH, AGA, VLC, LPL, ...   \n",
            "2022-10-15    [SKG, LTN, DUB, WRO, BUD, ATH, VLC, AGA, LPL, ...   \n",
            "2022-10-16    [SKG, LTN, DUB, WRO, BUD, ATH, AGA, VLC, LPL, ...   \n",
            "2022-10-17    [SKG, LTN, DUB, WRO, BUD, ATH, VLC, AGA, LPL, ...   \n",
            "2022-10-18    [SKG, LTN, DUB, WRO, BUD, ATH, AGA, VLC, LPL, ...   \n",
            "2022-10-19    [SKG, LTN, DUB, WRO, BUD, ATH, VLC, AGA, LPL, ...   \n",
            "2022-10-20    [LTN, DUB, WRO, BUD, ATH, VLC, AGA, LPL, POZ, ...   \n",
            "2022-10-21    [SKG, LTN, DUB, WRO, BUD, ATH, AGA, VLC, LPL, ...   \n",
            "2022-10-22    [SKG, LTN, DUB, WRO, BUD, ATH, AGA, VLC, LPL, ...   \n",
            "2022-10-23    [SKG, LTN, DUB, WRO, BUD, ATH, AGA, VLC, LPL, ...   \n",
            "2022-10-24    [SKG, LTN, DUB, WRO, BUD, ATH, AGA, VLC, LPL, ...   \n",
            "2022-10-25    [SKG, LTN, DUB, WRO, BUD, ATH, AGA, VLC, LPL, ...   \n",
            "2022-10-26    [SKG, LTN, DUB, WRO, BUD, ATH, VLC, AGA, LPL, ...   \n",
            "2022-10-27    [SKG, LTN, DUB, WRO, BUD, ATH, AGA, VLC, LPL, ...   \n",
            "2022-10-28    [SKG, LTN, DUB, WRO, BUD, ATH, VLC, AGA, LPL, ...   \n",
            "2022-10-29    [SKG, LTN, DUB, WRO, BUD, ATH, VLC, AGA, LPL, ...   \n",
            "2022-10-30    [SKG, LTN, DUB, WRO, BUD, AGA, VLC, LPL, POZ, ...   \n",
            "2022-10-31    [SKG, LTN, DUB, WRO, BUD, AGA, VLC, LPL, POZ, ...   \n",
            "2022-11-01    [PMI, PRG, STN, SKG, LTN, FEZ, DUB, LBA, GOT, ...   \n",
            "2022-11-02    [PMI, PRG, STN, SKG, LTN, FEZ, DUB, GOT, LBA, ...   \n",
            "2022-11-03    [STN, PMI, PRG, SKG, LTN, FEZ, DUB, LBA, GOT, ...   \n",
            "2022-11-04    [SKG, LTN, DUB, WRO, BUD, AGA, VLC, LPL, POZ, ...   \n",
            "2022-11-05    [SKG, LTN, DUB, WRO, BUD, AGA, VLC, LPL, POZ, ...   \n",
            "2022-11-06    [SKG, LTN, DUB, WRO, BUD, AGA, VLC, LPL, POZ, ...   \n",
            "2022-11-07    [SKG, LTN, DUB, WRO, BUD, VLC, AGA, LPL, POZ, ...   \n",
            "2022-11-08    [PMI, STN, PRG, SKG, LTN, FEZ, DUB, GOT, LBA, ...   \n",
            "2022-11-09    [PMI, PRG, SKG, STN, LTN, FEZ, DUB, LBA, GOT, ...   \n",
            "2022-11-10    [PMI, STN, SKG, PRG, LTN, GOT, DUB, LBA, FEZ, ...   \n",
            "2022-11-11    [SKG, LTN, DUB, WRO, BUD, AGA, VLC, LPL, POZ, ...   \n",
            "2022-11-12    [SKG, LTN, DUB, WRO, BUD, VLC, AGA, LPL, POZ, ...   \n",
            "2022-11-13    [SKG, LTN, DUB, WRO, BUD, AGA, VLC, LPL, POZ, ...   \n",
            "2022-11-14    [SKG, LTN, DUB, WRO, BUD, VLC, AGA, LPL, POZ, ...   \n",
            "2022-11-15    [PMI, STN, SKG, PRG, LTN, FEZ, DUB, LBA, GOT, ...   \n",
            "2022-11-16    [PMI, PRG, SKG, STN, LTN, GOT, DUB, LBA, FEZ, ...   \n",
            "2022-11-17    [PMI, PRG, STN, SKG, LTN, FEZ, DUB, LBA, GOT, ...   \n",
            "2022-11-18    [SKG, LTN, DUB, WRO, BUD, VLC, AGA, LPL, POZ, ...   \n",
            "2022-11-19    [SKG, LTN, DUB, WRO, BUD, AGA, VLC, LPL, POZ, ...   \n",
            "2022-11-20    [SKG, LTN, DUB, WRO, BUD, VLC, AGA, LPL, POZ, ...   \n",
            "2022-11-21    [SKG, LTN, DUB, WRO, BUD, AGA, VLC, LPL, POZ, ...   \n",
            "2022-11-22    [PMI, PRG, STN, SKG, LTN, FEZ, DUB, LBA, GOT, ...   \n",
            "2022-11-23    [PMI, STN, SKG, PRG, LTN, FEZ, DUB, LBA, GOT, ...   \n",
            "2022-11-24    [PRG, STN, PMI, SKG, LTN, GOT, DUB, FEZ, LBA, ...   \n",
            "2022-11-25    [SKG, LTN, DUB, WRO, BUD, VLC, AGA, LPL, POZ, ...   \n",
            "2022-11-26    [SKG, LTN, DUB, WRO, BUD, VLC, AGA, LPL, POZ, ...   \n",
            "2022-11-27    [SKG, LTN, DUB, WRO, BUD, AGA, VLC, LPL, POZ, ...   \n",
            "2022-11-28    [SKG, LTN, DUB, WRO, BUD, VLC, AGA, LPL, POZ, ...   \n",
            "\n",
            "              cancellations_count  \n",
            "dateoforigin                       \n",
            "2022-10-01                   1005  \n",
            "2022-10-02                    967  \n",
            "2022-10-03                   1004  \n",
            "2022-10-04                   1171  \n",
            "2022-10-05                   1272  \n",
            "2022-10-06                   1149  \n",
            "2022-10-07                    970  \n",
            "2022-10-08                   1057  \n",
            "2022-10-09                   1081  \n",
            "2022-10-10                   1169  \n",
            "2022-10-11                   1270  \n",
            "2022-10-12                   1341  \n",
            "2022-10-13                   1253  \n",
            "2022-10-14                   1181  \n",
            "2022-10-15                   1219  \n",
            "2022-10-16                   1197  \n",
            "2022-10-17                   1307  \n",
            "2022-10-18                   1494  \n",
            "2022-10-19                   1564  \n",
            "2022-10-20                   1373  \n",
            "2022-10-21                   1512  \n",
            "2022-10-22                   1154  \n",
            "2022-10-23                   1238  \n",
            "2022-10-24                   1334  \n",
            "2022-10-25                   1435  \n",
            "2022-10-26                   1631  \n",
            "2022-10-27                   1492  \n",
            "2022-10-28                   1339  \n",
            "2022-10-29                   1202  \n",
            "2022-10-30                   1817  \n",
            "2022-10-31                   1786  \n",
            "2022-11-01                   1145  \n",
            "2022-11-02                   1307  \n",
            "2022-11-03                   1372  \n",
            "2022-11-04                   2099  \n",
            "2022-11-05                   1867  \n",
            "2022-11-06                   2034  \n",
            "2022-11-07                   1997  \n",
            "2022-11-08                   1462  \n",
            "2022-11-09                   1480  \n",
            "2022-11-10                   1367  \n",
            "2022-11-11                   2081  \n",
            "2022-11-12                   1901  \n",
            "2022-11-13                   1935  \n",
            "2022-11-14                   2016  \n",
            "2022-11-15                   1420  \n",
            "2022-11-16                   1430  \n",
            "2022-11-17                   1373  \n",
            "2022-11-18                   2059  \n",
            "2022-11-19                   1857  \n",
            "2022-11-20                   1952  \n",
            "2022-11-21                   1917  \n",
            "2022-11-22                   1335  \n",
            "2022-11-23                   1201  \n",
            "2022-11-24                   1133  \n",
            "2022-11-25                   1652  \n",
            "2022-11-26                   1325  \n",
            "2022-11-27                   1452  \n",
            "2022-11-28                   1301  \n"
          ]
        }
      ]
    },
    {
      "cell_type": "markdown",
      "source": [
        "**November 4, 2022**: Recorded 2099 cancellations, impacting bases such as SKG, LTN, DUB, WRO, BUD, AGA, VLC, LPL, POZ, among others.\n",
        "\n",
        "**October 30, 2022**: Saw 1817 cancellations, with flights from SKG, LTN, DUB, WRO, BUD, AGA, VLC, LPL, POZ, and additional bases being canceled.\n",
        "\n",
        "**October 31, 2022:** Experienced 1786 cancellations, affecting a wide range of bases including SKG, LTN, DUB, WRO, BUD, AGA, VLC, LPL, POZ, etc.\n",
        "\n",
        "**November 6, 2022:** Had 2034 cancellations, with flights from bases like SKG, LTN, DUB, WRO, BUD, AGA, VLC, LPL, POZ, among others, being canceled.\n",
        "\n",
        "**November 7, 2022:** With 1997 cancellations, airports including SKG, LTN, DUB, WRO, BUD, VLC, AGA, LPL, POZ were notably affected.\n",
        "\n",
        "**November 11, 2022:** Notched up 2081 cancellations, impacting bases such as SKG, LTN, DUB, WRO, BUD, AGA, VLC, LPL, POZ, among others.\n",
        "\n",
        "**November 5, 2022:** Saw 1867 cancellations, with significant impacts on SKG, LTN, DUB, WRO, BUD, AGA, VLC, LPL, POZ, and more.\n",
        "\n",
        "**November 14, 2022:** Recorded 2016 cancellations, affecting a wide array of bases including SKG, LTN, DUB, WRO, BUD, VLC, AGA, LPL, POZ, etc.\n",
        "\n",
        "**November 18, 2022**: Experienced 2059 cancellations, with notable impacts on bases such as SKG, LTN, DUB, WRO, BUD, VLC, AGA, LPL, POZ, among others.\n",
        "\n",
        "**November 19, 2022:** Had 1857 cancellations, impacting SKG, LTN, DUB, WRO, BUD, AGA, VLC, LPL, POZ, and others.\n",
        "\n",
        "**November 20, 2022:** Saw 1952 cancellations, with significant impacts on bases like SKG, LTN, DUB, WRO, BUD, VLC, AGA, LPL, POZ, among others.\n",
        "\n",
        "**November 12, 2022:** Recorded 1901 cancellations, affecting SKG, LTN, DUB, WRO, BUD, VLC, AGA, LPL, POZ, and additional bases.\n",
        "\n",
        "**November 13, 2022:** Experienced 1935 cancellations, with a wide range of bases including SKG, LTN, DUB, WRO, BUD, AGA, VLC, LPL, POZ, being affected.\n",
        "\n",
        "**November 21, 2022**: With 1917 cancellations, airports such as SKG, LTN, DUB, WRO, BUD, AGA, VLC, LPL, POZ were notably impacted.\n",
        "\n",
        "**October 26, 2022:** Saw 1631 cancellations, impacting SKG, LTN, DUB, WRO, BUD, VLC, AGA, LPL, POZ, among others.\n"
      ],
      "metadata": {
        "id": "LHGBIFUd1KXl"
      }
    },
    {
      "cell_type": "markdown",
      "source": [
        "## **Possible Reasons**"
      ],
      "metadata": {
        "id": "iGHQri-01tRm"
      }
    },
    {
      "cell_type": "markdown",
      "source": [
        "1. Possibly due to the industry's struggle to meet rising travel demand post-pandemic downsizing, as well as operational challenges. Or \"On November 4, 2022, Spain closed parts of its airspace due to the threat posed by falling debris from a Chinese rocket. This caused delays for 300 flights across Spanish airports, affecting numerous regions including Catalonia. The debris came from the Long March 5B rocket, which was re-entering the Earth's atmosphere\"\n",
        "\n",
        "2. October 30, 2022, Schiphol Airport in Amsterdam faced significant operational challenges due to a security staff shortage, leading to extended passenger caps and reduced capacity. This situation resulted in long lines and numerous flight cancellations, as the airport struggled to manage the influx of travelers with the available staff​\n",
        "\n"
      ],
      "metadata": {
        "id": "mrMjybw91xy8"
      }
    },
    {
      "cell_type": "markdown",
      "source": [
        "I will remove all 2022 and look 2023 onward"
      ],
      "metadata": {
        "id": "Lw7fOb_5R5Xu"
      }
    },
    {
      "cell_type": "code",
      "source": [
        "import pandas as pd\n",
        "\n",
        "\n",
        "# Convert 'dateoforigin' to datetime format\n",
        "cancelled_flights_df['dateoforigin'] = pd.to_datetime(cancelled_flights_df['dateoforigin'])\n",
        "\n",
        "# Filter the DataFrame to include only data from 2023 onwards\n",
        "cancelled_flights_2023_df = cancelled_flights_df[cancelled_flights_df['dateoforigin'].dt.year >= 2023]\n",
        "\n",
        "# Extract year and month for grouping and analyze monthly cancellations\n",
        "cancelled_flights_2023_df['year_month'] = cancelled_flights_2023_df['dateoforigin'].dt.to_period('M')\n",
        "monthly_cancellations_2023 = cancelled_flights_2023_df['year_month'].value_counts().sort_index()\n",
        "\n",
        "# Analyze cancellations by day of the week\n",
        "cancelled_flights_2023_df['day_of_week'] = cancelled_flights_2023_df['dateoforigin'].dt.day_name()\n",
        "day_of_week_cancellations_2023 = cancelled_flights_2023_df['day_of_week'].value_counts()\n",
        "\n",
        "# Identify top airports for cancellations in 2023 onwards\n",
        "top_airports_cancellations_2023 = cancelled_flights_2023_df['airportbase'].value_counts().head(10)\n",
        "\n",
        "print(monthly_cancellations_2023)\n",
        "print(day_of_week_cancellations_2023)\n",
        "print(top_airports_cancellations_2023)\n"
      ],
      "metadata": {
        "colab": {
          "base_uri": "https://localhost:8080/",
          "height": 0
        },
        "id": "NyUpUAAXSACC",
        "outputId": "4080bb1b-eff2-4295-e0d6-182ec1ace725"
      },
      "execution_count": 17,
      "outputs": [
        {
          "output_type": "stream",
          "name": "stdout",
          "text": [
            "2023-01    1917\n",
            "2023-02    1305\n",
            "2023-03    2378\n",
            "2023-04    3390\n",
            "2023-05    4019\n",
            "2023-06    4944\n",
            "2023-07    4909\n",
            "2023-08    4667\n",
            "2023-09    4196\n",
            "2023-10    3479\n",
            "2023-11    2862\n",
            "Freq: M, Name: year_month, dtype: int64\n",
            "Monday       5951\n",
            "Friday       5901\n",
            "Saturday     5845\n",
            "Sunday       5374\n",
            "Tuesday      5173\n",
            "Wednesday    4968\n",
            "Thursday     4854\n",
            "Name: day_of_week, dtype: int64\n",
            "STN    8632\n",
            "MAN    6976\n",
            "KTW    4899\n",
            "EDI    3574\n",
            "BFS    3369\n",
            "WRO     843\n",
            "WMI     815\n",
            "CRL     762\n",
            "POZ     750\n",
            "MRS     414\n",
            "Name: airportbase, dtype: int64\n"
          ]
        },
        {
          "output_type": "stream",
          "name": "stderr",
          "text": [
            "<ipython-input-17-503b5b5ffc8c>:11: SettingWithCopyWarning: \n",
            "A value is trying to be set on a copy of a slice from a DataFrame.\n",
            "Try using .loc[row_indexer,col_indexer] = value instead\n",
            "\n",
            "See the caveats in the documentation: https://pandas.pydata.org/pandas-docs/stable/user_guide/indexing.html#returning-a-view-versus-a-copy\n",
            "  cancelled_flights_2023_df['year_month'] = cancelled_flights_2023_df['dateoforigin'].dt.to_period('M')\n",
            "<ipython-input-17-503b5b5ffc8c>:15: SettingWithCopyWarning: \n",
            "A value is trying to be set on a copy of a slice from a DataFrame.\n",
            "Try using .loc[row_indexer,col_indexer] = value instead\n",
            "\n",
            "See the caveats in the documentation: https://pandas.pydata.org/pandas-docs/stable/user_guide/indexing.html#returning-a-view-versus-a-copy\n",
            "  cancelled_flights_2023_df['day_of_week'] = cancelled_flights_2023_df['dateoforigin'].dt.day_name()\n"
          ]
        }
      ]
    },
    {
      "cell_type": "markdown",
      "source": [
        "# **Monthly Cancellations**\n",
        "There is a clear trend showing an increase in flight cancellations from January to June, with June having the highest number of cancellations (4944).\n",
        "After June, there's a slight decrease but still relatively high numbers through July and August, followed by a gradual decrease towards November.\n",
        "This pattern might suggest seasonal effects, with summer months experiencing higher cancellation rates possibly due to increased travel demand and potentially weather-related issues.\n",
        "\n",
        "# **Day of the Week Cancellations**\n",
        "The distribution of cancellations across the week is relatively even, with Monday, Friday, and Saturday being slightly higher.\n",
        "The slight increase in cancellations on Mondays and Fridays could be related to higher travel volumes at the start and end of work weeks or weekends.\n",
        "The relatively even spread suggests that day-to-day operational factors or scheduling do not disproportionately affect cancellations on specific days of the week.\n",
        "\n",
        "# **Top Airports for Cancellations**\n",
        "Stansted (STN) and Manchester (MAN) lead with the highest numbers of cancellations, indicating that these major hubs might be more susceptible to factors causing cancellations.\n",
        "Edinburgh (EDI) and Belfast (BFS) also have significant numbers, suggesting regional variations in cancellation rates.\n",
        "The presence of airports like Katowice (KTW) high on the list indicates that cancellations are not solely a concern for UK airports but also affect other locations, potentially pointing to wider network or operational issues affecting these airports.\n"
      ],
      "metadata": {
        "id": "R9xfJi2hSKlg"
      }
    },
    {
      "cell_type": "markdown",
      "source": [
        "# **Now looking into specific dates with high cancellations**"
      ],
      "metadata": {
        "id": "-ttpC822UlHT"
      }
    },
    {
      "cell_type": "code",
      "source": [
        "# Count cancellations by date for 2023 onwards\n",
        "daily_cancellations_2023 = cancelled_flights_2023_df['dateoforigin'].dt.date.value_counts()\n",
        "high_cancellation_days_2023 = daily_cancellations_2023[daily_cancellations_2023 > daily_cancellations_2023.mean() + daily_cancellations_2023.std()]\n",
        "print(high_cancellation_days_2023)"
      ],
      "metadata": {
        "colab": {
          "base_uri": "https://localhost:8080/",
          "height": 0
        },
        "id": "0TQtXgnwTGN5",
        "outputId": "7d0b9f96-d97c-40cb-d332-27d8fe0f2877"
      },
      "execution_count": 18,
      "outputs": [
        {
          "output_type": "stream",
          "name": "stdout",
          "text": [
            "2023-06-06    505\n",
            "2023-07-15    429\n",
            "2023-05-01    417\n",
            "2023-08-28    389\n",
            "2023-06-04    294\n",
            "2023-04-02    267\n",
            "2023-05-19    259\n",
            "2023-06-20    256\n",
            "2023-06-29    250\n",
            "2023-11-20    239\n",
            "2023-10-20    227\n",
            "2023-08-29    227\n",
            "2023-08-14    219\n",
            "2023-09-08    217\n",
            "2023-08-27    216\n",
            "2023-10-13    200\n",
            "2023-07-29    197\n",
            "2023-07-16    195\n",
            "2023-07-30    183\n",
            "2023-03-27    182\n",
            "2023-08-15    176\n",
            "2023-07-17    176\n",
            "2023-07-01    175\n",
            "Name: dateoforigin, dtype: int64\n"
          ]
        }
      ]
    },
    {
      "cell_type": "markdown",
      "source": [
        "## **Now looking into specific dates with high cancellations + what flight and what base to better understand why**"
      ],
      "metadata": {
        "id": "nJnZDvgPUtB3"
      }
    },
    {
      "cell_type": "code",
      "source": [
        "# Group cancellations by date, and list unique flights and bases for each date\n",
        "cancelled_flights_grouped_2023 = cancelled_flights_2023_df.groupby(cancelled_flights_2023_df['dateoforigin'].dt.date).agg({\n",
        "    'Flight': lambda x: list(set(x)),\n",
        "    'airportbase': lambda x: list(set(x))\n",
        "})\n",
        "\n",
        "# Calculate the number of cancellations for each day\n",
        "cancelled_flights_grouped_2023['cancellations_count'] = cancelled_flights_2023_df.groupby(cancelled_flights_2023_df['dateoforigin'].dt.date)['Flight'].count()\n",
        "\n",
        "# Filter for days with high cancellations, based on a threshold (mean + std deviation for example)\n",
        "mean_cancellations = cancelled_flights_grouped_2023['cancellations_count'].mean()\n",
        "std_cancellations = cancelled_flights_grouped_2023['cancellations_count'].std()\n",
        "high_cancellation_days_2023 = cancelled_flights_grouped_2023[cancelled_flights_grouped_2023['cancellations_count'] > mean_cancellations + std_cancellations]\n",
        "\n",
        "print(high_cancellation_days_2023[['Flight', 'airportbase', 'cancellations_count']])\n"
      ],
      "metadata": {
        "colab": {
          "base_uri": "https://localhost:8080/",
          "height": 0
        },
        "id": "6xE6YiKTTod2",
        "outputId": "852d7632-8e83-4a29-cf8d-632a2092aafa"
      },
      "execution_count": 19,
      "outputs": [
        {
          "output_type": "stream",
          "name": "stdout",
          "text": [
            "                                                         Flight  \\\n",
            "dateoforigin                                                      \n",
            "2023-03-27    [FR1077, FR463, RK193, FR5532, FR3783, FR9481,...   \n",
            "2023-04-02    [FR5587, FR4915, FR3388, FR5981, RK193, FR910,...   \n",
            "2023-05-01    [FR2960, FR6504, FR690, FR5794, FR9468, RK3243...   \n",
            "2023-05-19    [FR4018, RK193, FR5968, FR5991, RK228, FR3438,...   \n",
            "2023-06-04    [RK8746, FR3625, FR4915, RK193, FR5968, FR1091...   \n",
            "2023-06-06    [FR2960, FR3190, RK1103, FR5794, FR6772, FR262...   \n",
            "2023-06-20    [FR2756, RK193, FR6284, RK1103, RK7870, RK130,...   \n",
            "2023-06-29    [RK4028, FR717, RR5069, RK193, RR5019, FR9360,...   \n",
            "2023-07-01    [FR5955, RR7127, RR7133, RK193, RK3219, RK7870...   \n",
            "2023-07-15    [FR5524, RR7127, FR910, RK9430, FR2672, FR9523...   \n",
            "2023-07-16    [RK8746, FR6456, FR8609, RK193, FR627, FR4566,...   \n",
            "2023-07-17    [FR5955, FR4314, FR300, RK193, FR910, RK7870, ...   \n",
            "2023-07-29    [FR3939, FR5955, RR7127, RK193, RR7133, RK3219...   \n",
            "2023-07-30    [RK8746, FR4314, FR3762, RK193, FR2261, FR4566...   \n",
            "2023-08-14    [FR3939, FR5955, FR4314, FR300, FR2835, RK193,...   \n",
            "2023-08-15    [RR7019, FR2835, FR3762, RK193, FR4566, RK1103...   \n",
            "2023-08-27    [RK8746, FR3011, RK193, FR27, FR2163, FR6187, ...   \n",
            "2023-08-28    [FR1682, FR9717, FR8203, FR5994, FR1958, FR286...   \n",
            "2023-08-29    [FR9084, RR7019, RK193, RK1103, RK7870, RR3029...   \n",
            "2023-09-08    [FR3939, FR3625, FR4018, RK193, FR5968, RK228,...   \n",
            "2023-10-13    [FR717, FR1700, RR3408, RK193, FR2960, RK228, ...   \n",
            "2023-10-20    [FR4103, FR1700, RK193, FR5968, RK228, FR899, ...   \n",
            "2023-11-20    [RK193, FR9166, FR235, FR5256, RK7870, FR6495,...   \n",
            "\n",
            "                                                    airportbase  \\\n",
            "dateoforigin                                                      \n",
            "2023-03-27    [STN, PMI, FEZ, DUB, CGN, BUD, RIX, BGY, BRI, ...   \n",
            "2023-04-02    [STN, PRG, GOT, WRO, CGN, ACE, BGY, BRI, CAG, ...   \n",
            "2023-05-01    [PMI, STN, FKB, FEZ, DUB, LBA, BUD, CGN, ATH, ...   \n",
            "2023-05-19    [STN, PMI, SKG, PRG, DUB, WRO, BUD, BGY, BRI, ...   \n",
            "2023-06-04    [STN, GOT, DUB, WRO, CGN, ACE, BOH, BGY, VLC, ...   \n",
            "2023-06-06    [PMI, STN, PRG, FKB, LTN, FEZ, DUB, LBA, WRO, ...   \n",
            "2023-06-20    [STN, LTN, ZAD, DUB, WRO, BUD, BRI, CAG, SUF, ...   \n",
            "2023-06-29    [PRG, STN, PMI, FEZ, DUB, LBA, WRO, SOF, BUD, ...   \n",
            "2023-07-01    [STN, WRO, ATH, VLC, GDN, LPL, LIS, KRK, POZ, ...   \n",
            "2023-07-15    [STN, PMI, SKG, ZAD, DUB, WRO, ATH, BGY, BRI, ...   \n",
            "2023-07-16    [STN, BCN, MAN, PMI, VLC, GOT, EDI, KTW, CRL, ...   \n",
            "2023-07-17    [STN, FEZ, WRO, ATH, BGY, BRI, CAG, KRK, POZ, ...   \n",
            "2023-07-29    [STN, MAN, ARN, GDN, EDI, KTW, CRL, KRK, WMI, ...   \n",
            "2023-07-30    [BCN, PMI, MAN, STN, VLC, EDI, GOT, KTW, CRL, ...   \n",
            "2023-08-14    [STN, FEZ, WRO, ATH, BGY, BRI, MLA, POZ, ARN, ...   \n",
            "2023-08-15        [STN, MAN, EDI, GDN, KTW, CRL, WRO, BFS, POZ]   \n",
            "2023-08-27    [PMI, STN, FKB, GOT, DUB, LBA, PIK, CGN, BGY, ...   \n",
            "2023-08-28    [PMI, STN, FKB, LTN, FEZ, DUB, LBA, WRO, BUD, ...   \n",
            "2023-08-29    [STN, PMI, LTN, FKB, DUB, LBA, WRO, ACE, BRI, ...   \n",
            "2023-09-08    [STN, PMI, SKG, FEZ, DUB, WRO, BGY, BRI, VLC, ...   \n",
            "2023-10-13    [PMI, STN, SKG, FEZ, DUB, CGN, BUD, BOH, BGY, ...   \n",
            "2023-10-20    [STN, PMI, SKG, DUB, LBA, WRO, SOF, BUD, BGY, ...   \n",
            "2023-11-20    [PMI, STN, FKB, FEZ, DUB, BUD, TFS, CGN, BGY, ...   \n",
            "\n",
            "              cancellations_count  \n",
            "dateoforigin                       \n",
            "2023-03-27                    182  \n",
            "2023-04-02                    267  \n",
            "2023-05-01                    417  \n",
            "2023-05-19                    259  \n",
            "2023-06-04                    294  \n",
            "2023-06-06                    505  \n",
            "2023-06-20                    256  \n",
            "2023-06-29                    250  \n",
            "2023-07-01                    175  \n",
            "2023-07-15                    429  \n",
            "2023-07-16                    195  \n",
            "2023-07-17                    176  \n",
            "2023-07-29                    197  \n",
            "2023-07-30                    183  \n",
            "2023-08-14                    219  \n",
            "2023-08-15                    176  \n",
            "2023-08-27                    216  \n",
            "2023-08-28                    389  \n",
            "2023-08-29                    227  \n",
            "2023-09-08                    217  \n",
            "2023-10-13                    200  \n",
            "2023-10-20                    227  \n",
            "2023-11-20                    239  \n"
          ]
        }
      ]
    },
    {
      "cell_type": "markdown",
      "source": [
        "**May 1, 2023**: Stands out with the highest number of cancellations, totaling 417. Flights were cancelled across a wide range of bases including BLL, BOD, BVA, EMA, TLS, BDS, BLQ, LIS, EDI, and many others.\n",
        "\n",
        "**June 6, 2023**: This day saw a remarkable peak in cancellations, reaching 505. The affected bases were widespread, encompassing BVA, TLS, BOD, EMA, BLQ, LIS, CIA, EDI, CGN, and others.\n",
        "\n",
        "**July 15, 2023**: Recorded 429 cancellations, with flights from a diverse set of bases including BOD, BDS, BTS, EMA, BLQ, ZAD, CIA, ZAG, EDI, among others, being cancelled.\n",
        "\n",
        "**August 28, 2023**: Another significant spike with 389 cancellations. The impacted bases were notably diverse, including BLL, BDS, EMA, CIA, ZAG, EDI, CTA, CGN, ARN, and others."
      ],
      "metadata": {
        "id": "30ZfN_UQUjsb"
      }
    },
    {
      "cell_type": "markdown",
      "source": [
        "# **Understanding of cause**\n",
        "\n",
        "May 1, 2023 - air traffic control strikes in France, scheduled for May 1, 2023 - hence mainly airports in France\n",
        "\n",
        "\n",
        "June 6, 2023 - again air traffic control strike in France\n",
        "\n",
        "July 15, 2023 - nationwide airport staff strike in Italy\n",
        "\n",
        "August 28, 2023 - technical fault has caused widespread disruptions across UK airports"
      ],
      "metadata": {
        "id": "waAG0elHVMeg"
      }
    },
    {
      "cell_type": "markdown",
      "source": [
        "# **Checking specific flights most frequently cancelled**"
      ],
      "metadata": {
        "id": "FR1wq42zYp2A"
      }
    },
    {
      "cell_type": "code",
      "source": [
        "print(cancelled_flights_df.columns)"
      ],
      "metadata": {
        "colab": {
          "base_uri": "https://localhost:8080/",
          "height": 0
        },
        "id": "_aquNZ8d9Drf",
        "outputId": "d3a0d15b-a43f-49bd-bd15-692afbf9317a"
      },
      "execution_count": 25,
      "outputs": [
        {
          "output_type": "stream",
          "name": "stdout",
          "text": [
            "Index(['dateoforigin', 'airportbase', 'Flight'], dtype='object')\n"
          ]
        }
      ]
    },
    {
      "cell_type": "code",
      "source": [
        "\n",
        "# Assuming 'flights' column in 'cancelled_flights_df' lists the flight numbers\n",
        "# Count cancellations by flight number to identify the most frequently cancelled routes\n",
        "route_cancellations = cancelled_flights_df['Flight'].value_counts()\n",
        "\n",
        "# Display the top 10 most frequently cancelled flights\n",
        "print(route_cancellations.head(10))\n"
      ],
      "metadata": {
        "colab": {
          "base_uri": "https://localhost:8080/",
          "height": 0
        },
        "id": "6RRhgC5b8Cg6",
        "outputId": "4b5ecbe4-94ce-493d-c3f9-0eee8b55758c"
      },
      "execution_count": 27,
      "outputs": [
        {
          "output_type": "stream",
          "name": "stdout",
          "text": [
            "RK3556    338\n",
            "RK3557    338\n",
            "RK32      266\n",
            "RK33      266\n",
            "RK1392    260\n",
            "RK1393    260\n",
            "RK597     246\n",
            "RK596     246\n",
            "RK1274    246\n",
            "RK1273    246\n",
            "Name: Flight, dtype: int64\n"
          ]
        }
      ]
    },
    {
      "cell_type": "markdown",
      "source": [
        "\n",
        "RK32 - London - Oslo\n",
        "\n",
        "RK33 - Oslo - London - Base STN\n",
        "\n",
        "RK1392 - London - Oslo\n",
        "\n",
        "EK1393 - Oslo - London - Base STN\n",
        "\n",
        "RK597 - RK596 - RK1274 - RK1273 - Edinburgh - London - Base EDI\n",
        "\n",
        "\n",
        "\n",
        "\n"
      ],
      "metadata": {
        "id": "geSGaWBY9Zmp"
      }
    },
    {
      "cell_type": "markdown",
      "source": [
        "**2023 onwards**"
      ],
      "metadata": {
        "id": "KKS_n2iXOQaX"
      }
    },
    {
      "cell_type": "code",
      "source": [
        "# Ensure the 'dateoforigin' column is in datetime format\n",
        "cancelled_flights_df['dateoforigin'] = pd.to_datetime(cancelled_flights_df['dateoforigin'])\n",
        "\n",
        "# Filter the DataFrame to include only cancellations from 2023 onwards\n",
        "cancelled_flights_2023_df = cancelled_flights_df[cancelled_flights_df['dateoforigin'].dt.year >= 2023]\n",
        "\n",
        "# Assuming the flight numbers are in a column named 'Flight'\n",
        "# Count cancellations by flight number to identify the most frequently cancelled routes in 2023 onwards\n",
        "route_cancellations_2023 = cancelled_flights_2023_df['Flight'].value_counts()\n",
        "\n",
        "# Display the top 10 most frequently cancelled flights for 2023 onwards\n",
        "print(route_cancellations_2023.head(10))"
      ],
      "metadata": {
        "colab": {
          "base_uri": "https://localhost:8080/",
          "height": 0
        },
        "id": "_GzjPGHBOQAj",
        "outputId": "5a6ed021-e25e-4bf3-8e78-e23498acb491"
      },
      "execution_count": 30,
      "outputs": [
        {
          "output_type": "stream",
          "name": "stdout",
          "text": [
            "RK3556    282\n",
            "RK3557    282\n",
            "RK597     246\n",
            "RK596     246\n",
            "RK1274    246\n",
            "RK1273    246\n",
            "RK190     245\n",
            "RK191     245\n",
            "RK128     245\n",
            "RK129     245\n",
            "Name: Flight, dtype: int64\n"
          ]
        }
      ]
    },
    {
      "cell_type": "markdown",
      "source": [
        "RK3556- RK3557 - London - Marrakech - Base STN\n",
        "\n",
        "RK190 - RK 191 - Belfast - Manchester - Base MAN\n",
        "\n",
        "RK 128 - 129 - Belfast - London - Base STN\n",
        "\n"
      ],
      "metadata": {
        "id": "QRpLUGtQOWRY"
      }
    },
    {
      "cell_type": "markdown",
      "source": [
        "**Next 10**"
      ],
      "metadata": {
        "id": "nFvebjGbPsxA"
      }
    },
    {
      "cell_type": "code",
      "source": [
        "print(route_cancellations_2023[10:20])"
      ],
      "metadata": {
        "colab": {
          "base_uri": "https://localhost:8080/",
          "height": 0
        },
        "id": "CsqCPVOPPsIM",
        "outputId": "4515b900-b060-491e-f516-d00d5f209e3a"
      },
      "execution_count": 31,
      "outputs": [
        {
          "output_type": "stream",
          "name": "stdout",
          "text": [
            "RK130     244\n",
            "RK131     244\n",
            "RK178     244\n",
            "RK179     244\n",
            "RK192     238\n",
            "RK193     238\n",
            "RK1392    231\n",
            "RK1393    231\n",
            "RK33      215\n",
            "RK32      215\n",
            "Name: Flight, dtype: int64\n"
          ]
        }
      ]
    },
    {
      "cell_type": "markdown",
      "source": [
        "RK130 - RK 131 - Belfast (BFS) to London Stansted (STN)\n",
        "\n",
        "RK178 - RK179 - Belfast (BFS) to Edinburgh (EDI)\n",
        "\n",
        "RK192 - RK193 - Belfast (BFS) to Manchester (MAN)\n",
        "\n",
        "RK1392 - RK1393 - London Stansted (STN) to Oslo (OSL)"
      ],
      "metadata": {
        "id": "LovavwWRQF8S"
      }
    },
    {
      "cell_type": "code",
      "source": [
        "print(route_cancellations_2023[20:30])"
      ],
      "metadata": {
        "colab": {
          "base_uri": "https://localhost:8080/",
          "height": 0
        },
        "id": "4B1evziVQn3V",
        "outputId": "755e8948-0842-4537-e972-752194ea3158"
      },
      "execution_count": 32,
      "outputs": [
        {
          "output_type": "stream",
          "name": "stdout",
          "text": [
            "RK3226    197\n",
            "RK3227    197\n",
            "RK7870    193\n",
            "RK8490    169\n",
            "RK8491    169\n",
            "RK1366    153\n",
            "RK1394    150\n",
            "RK1395    150\n",
            "RK3034    146\n",
            "RK3033    146\n",
            "Name: Flight, dtype: int64\n"
          ]
        }
      ]
    },
    {
      "cell_type": "markdown",
      "source": [
        "RK3226 - RK3227 - Manchester (MAN) to Sandefjord (TRF)\n",
        "\n",
        "RK7870 - London Stansted to Marrakech\n",
        "\n",
        "RK8490 - RK8491 - Manchester (MAN) to City of Derry, Londonderry (LDY)\n",
        "\n",
        "RK1366 - Podgorica to London\n",
        "\n",
        "RK1394 - RK1395 - London - Oslo\n",
        "\n",
        "RK3034 - RK3033 - Agadir - London"
      ],
      "metadata": {
        "id": "b2LnjT9ZQrUZ"
      }
    },
    {
      "cell_type": "markdown",
      "source": [
        "**Least Cancelled**"
      ],
      "metadata": {
        "id": "0CSZqnFsS40-"
      }
    },
    {
      "cell_type": "code",
      "source": [
        "# Assuming 'cancelled_flights_2023_df' contains your filtered data for 2023 onwards\n",
        "# and 'Flight' is the column with flight numbers\n",
        "\n",
        "# Count cancellations by flight number and sort them to identify the least cancelled routes\n",
        "least_cancelled_flights = cancelled_flights_2023_df['Flight'].value_counts().sort_values(ascending=True)\n",
        "\n",
        "# Display the flights with the least cancellations\n",
        "# This shows the top 10 flights with the least number of cancellations, but you can adjust the number as needed\n",
        "print(least_cancelled_flights.head(10))\n"
      ],
      "metadata": {
        "colab": {
          "base_uri": "https://localhost:8080/",
          "height": 0
        },
        "id": "XhTitELsSrUS",
        "outputId": "201a1880-4dbe-45c0-e7e4-f11b8162f7ba"
      },
      "execution_count": 33,
      "outputs": [
        {
          "output_type": "stream",
          "name": "stdout",
          "text": [
            "FR4970    1\n",
            "FR4819    1\n",
            "FR7454    1\n",
            "FR5962    1\n",
            "FR4099    1\n",
            "FR7316    1\n",
            "FR4100    1\n",
            "RR9077    1\n",
            "FR2262    1\n",
            "FR8706    1\n",
            "Name: Flight, dtype: int64\n"
          ]
        }
      ]
    },
    {
      "cell_type": "markdown",
      "source": [
        "# **Completion Rate Analysis**\n"
      ],
      "metadata": {
        "id": "K7YS4Fl_Uv6x"
      }
    },
    {
      "cell_type": "code",
      "source": [
        "# Aggregate the number of flights planned by each base and date\n",
        "planned_grouped = planned_lofs_df.groupby(['airportbase', 'dateoforigin']).count()['flights'].reset_index(name='planned_flights')\n",
        "# Aggregate the number of actual flights by base and date\n",
        "real_grouped = real_lofs_df.groupby(['Base', 'DAY_OF_ORIGIN']).count()['Flights'].reset_index(name='real_flights')\n",
        "\n",
        "# Merge the two datasets on base and date, ensuring to align the date formats if necessary\n",
        "merged_df = pd.merge(planned_grouped, real_grouped, left_on=['airportbase', 'dateoforigin'], right_on=['Base', 'DAY_OF_ORIGIN'], how='left')\n",
        "\n",
        "# Calculate the completion rate\n",
        "merged_df['completion_rate'] = merged_df['real_flights'] / merged_df['planned_flights']\n",
        "\n",
        "# Sort and display bases with the lowest completion rates\n",
        "print(merged_df.sort_values(by='completion_rate', ascending=True).head())\n"
      ],
      "metadata": {
        "colab": {
          "base_uri": "https://localhost:8080/",
          "height": 0
        },
        "id": "cdHzzBfFUxt5",
        "outputId": "a8a163e9-b3d2-4a25-e6c2-dd16b209ba96"
      },
      "execution_count": 36,
      "outputs": [
        {
          "output_type": "stream",
          "name": "stdout",
          "text": [
            "      airportbase dateoforigin  planned_flights Base DAY_OF_ORIGIN  \\\n",
            "9837          CRL   2023-01-08               15  CRL    2023-01-08   \n",
            "16754         KTW   2023-09-15                8  KTW    2023-09-15   \n",
            "12305         FCO   2022-11-09                7  FCO    2022-11-09   \n",
            "16724         KTW   2023-08-16                7  KTW    2023-08-16   \n",
            "16717         KTW   2023-08-09                7  KTW    2023-08-09   \n",
            "\n",
            "       real_flights  completion_rate  \n",
            "9837            1.0         0.066667  \n",
            "16754           1.0         0.125000  \n",
            "12305           1.0         0.142857  \n",
            "16724           1.0         0.142857  \n",
            "16717           1.0         0.142857  \n"
          ]
        }
      ]
    },
    {
      "cell_type": "code",
      "source": [
        "import pandas as pd\n",
        "import matplotlib.pyplot as plt\n",
        "\n",
        "# Assuming cancelled_flights_df is already defined and loaded with your data\n",
        "# Make sure 'dateoforigin' is in datetime format\n",
        "cancelled_flights_df['dateoforigin'] = pd.to_datetime(cancelled_flights_df['dateoforigin'])\n",
        "\n",
        "# Create a new column 'month_year' to group cancellations by month and year\n",
        "cancelled_flights_df['month_year'] = cancelled_flights_df['dateoforigin'].dt.to_period('M')\n",
        "\n",
        "# Count the number of cancellations for each 'month_year'\n",
        "cancellations_over_time = cancelled_flights_df.groupby('month_year').size()\n",
        "\n",
        "# Plotting the trend of cancellations over time\n",
        "plt.figure(figsize=(12, 6))  # Adjust the figure size as necessary\n",
        "cancellations_over_time.plot(kind='line', title='Monthly Cancellation Trends', marker='o')\n",
        "plt.xlabel('Month-Year')\n",
        "plt.ylabel('Number of Cancellations')\n",
        "plt.xticks(rotation=45)  # Rotate labels to make them readable\n",
        "plt.grid(True)  # Add grid for better readability\n",
        "plt.tight_layout()  # Adjust layout to make room for the rotated x-axis labels\n",
        "plt.show()\n",
        "\n"
      ],
      "metadata": {
        "colab": {
          "base_uri": "https://localhost:8080/",
          "height": 627
        },
        "id": "pQDVqf-3U5Pq",
        "outputId": "04fe3a71-7356-47b2-8609-e0128fa4b192"
      },
      "execution_count": 38,
      "outputs": [
        {
          "output_type": "display_data",
          "data": {
            "text/plain": [
              "<Figure size 1200x600 with 1 Axes>"
            ],
            "image/png": "[encoded data removed]"
          },
          "metadata": {}
        }
      ]
    }
  ]
}

